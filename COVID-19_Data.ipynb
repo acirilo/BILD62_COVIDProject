{
 "cells": [
  {
   "cell_type": "code",
   "execution_count": 1,
   "id": "cb939f4b",
   "metadata": {},
   "outputs": [],
   "source": [
    "## accessing OurWorldInData as a dataframe in pandas to get live covid cases and total cases for the US\n",
    "url = 'https://covid.ourworldindata.org/data/latest/owid-covid-latest.csv'\n",
    "\n",
    "import pandas as pd\n",
    "\n",
    "def country_covid():\n",
    "    live_data = pd.read_csv(url, delimiter = ',')\n",
    "    row_index = 'location'\n",
    "    live_data = live_data.set_index(row_index)\n",
    "    output = input('What country would you like to learn about? ')\n",
    "    \n",
    "    for i in live_data:\n",
    "        row = output.title()\n",
    "        column = 'total_cases'\n",
    "    print('Total confirmed cases of COVID-19 in', output.title(), ':', live_data.loc[row, column])"
   ]
  },
  {
   "cell_type": "code",
   "execution_count": 2,
   "id": "a6f01b14",
   "metadata": {},
   "outputs": [
    {
     "name": "stdout",
     "output_type": "stream",
     "text": [
      "What country would you like to learn about? united states\n",
      "Total confirmed cases of COVID-19 in United States : 84882287.0\n"
     ]
    }
   ],
   "source": [
    "country_covid()"
   ]
  },
  {
   "cell_type": "code",
   "execution_count": 7,
   "id": "1d4554af",
   "metadata": {},
   "outputs": [],
   "source": [
    "def ca_covid():\n",
    "    live_ca = pd.read_csv('ca-covid-2022.csv', delimiter = ',')\n",
    "    row_index = 'submission_date'\n",
    "    live_ca = live_ca.set_index(row_index)\n",
    "    row = '6/5/2022'\n",
    "    ca_covid = live_ca.loc[row]\n",
    "    return ca_covid[['state','tot_cases', 'new_case']]\n"
   ]
  },
  {
   "cell_type": "code",
   "execution_count": 8,
   "id": "6fbe6872",
   "metadata": {},
   "outputs": [
    {
     "data": {
      "text/plain": [
       "state               CA\n",
       "tot_cases    9,647,488\n",
       "new_case             0\n",
       "Name: 6/5/2022, dtype: object"
      ]
     },
     "execution_count": 8,
     "metadata": {},
     "output_type": "execute_result"
    }
   ],
   "source": [
    "ca_covid()"
   ]
  },
  {
   "cell_type": "code",
   "execution_count": 3,
   "id": "30cbbe19",
   "metadata": {},
   "outputs": [],
   "source": [
    "def ca_county_covid():\n",
    "    live_county = pd.read_csv('ca-county-covid.csv', delimiter = ',')\n",
    "    row_index = 'area'\n",
    "    live_county = live_county.set_index(row_index)\n",
    "    output = input('What is the county of your residence? ')\n",
    "\n",
    "    for i in live_county:\n",
    "        row = output.title()\n",
    "        county_covid = live_county.loc[row]\n",
    "    print('Data for', output.title(), ':', county_covid[['date', 'population', 'cases', 'cumulative_cases']]) "
   ]
  },
  {
   "cell_type": "code",
   "execution_count": 4,
   "id": "91b75d83",
   "metadata": {},
   "outputs": [
    {
     "name": "stdout",
     "output_type": "stream",
     "text": [
      "What is the county of your residence? alameda\n",
      "Data for Alameda : date                 6/2/2022\n",
      "population          1685886.0\n",
      "cases                     0.0\n",
      "cumulative_cases     285819.0\n",
      "Name: Alameda, dtype: object\n"
     ]
    }
   ],
   "source": [
    "ca_county_covid()"
   ]
  }
 ],
 "metadata": {
  "kernelspec": {
   "display_name": "Python 3 (ipykernel)",
   "language": "python",
   "name": "python3"
  },
  "language_info": {
   "codemirror_mode": {
    "name": "ipython",
    "version": 3
   },
   "file_extension": ".py",
   "mimetype": "text/x-python",
   "name": "python",
   "nbconvert_exporter": "python",
   "pygments_lexer": "ipython3",
   "version": "3.9.5"
  }
 },
 "nbformat": 4,
 "nbformat_minor": 5
}
