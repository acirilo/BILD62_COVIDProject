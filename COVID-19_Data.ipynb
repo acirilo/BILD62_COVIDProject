{
 "cells": [
  {
   "cell_type": "markdown",
   "id": "963a9ba4",
   "metadata": {},
   "source": [
    "# Let's Look at Current COVID-19 Stats!\n",
    "\n",
    "#### If you're a California resident, this game also includes information by county!"
   ]
  },
  {
   "cell_type": "code",
   "execution_count": 3,
   "id": "cb939f4b",
   "metadata": {},
   "outputs": [],
   "source": [
    "## accessing OurWorldInData as a dataframe in pandas to get live covid cases and total cases for the US\n",
    "url = 'https://covid.ourworldindata.org/data/latest/owid-covid-latest.csv'\n",
    "\n",
    "'''Our World in Data is an online database that updates their COVID stats daily.'''\n",
    "'''Will use OWID to pull data as it realted to total COVID cases by country.'''\n",
    "\n",
    "import pandas as pd\n",
    "\n",
    "def country_covid():\n",
    "    '''Pulling data from their stable link, this data realtes to current cases in most countries.'''\n",
    "    \n",
    "    live_data = pd.read_csv(url, delimiter = ',')\n",
    "    row_index = 'location'\n",
    "    live_data = live_data.set_index(row_index)\n",
    "    output = input('What country would you like to learn about? ')\n",
    "   \n",
    "    '''Asking the players to chose a country they would like to learn about.'''\n",
    "    \n",
    "    for i in live_data:\n",
    "        try:\n",
    "            row = output.title()\n",
    "            column = 'total_cases'\n",
    "            return live_data.loc[row, column]\n",
    "        except KeyError:\n",
    "            print('Country not valid.')\n",
    "            output = input('What country would you like to learn about? ')\n",
    "       \n",
    "    '''If the country is not valid, or not in the database,\\\n",
    "        it wil return a statement and prompt the input question again'''"
   ]
  },
  {
   "cell_type": "code",
   "execution_count": 4,
   "id": "a6f01b14",
   "metadata": {},
   "outputs": [
    {
     "name": "stdout",
     "output_type": "stream",
     "text": [
      "What country would you like to learn about? France\n"
     ]
    },
    {
     "data": {
      "text/plain": [
       "29702081.0"
      ]
     },
     "execution_count": 4,
     "metadata": {},
     "output_type": "execute_result"
    }
   ],
   "source": [
    "country_covid()"
   ]
  },
  {
   "cell_type": "code",
   "execution_count": 5,
   "id": "1d4554af",
   "metadata": {},
   "outputs": [],
   "source": [
    "'''This cell uses CDC data on US state rates. The .csv needs to be updated manually.'''\n",
    "\n",
    "def state_covid():\n",
    "    live_state = pd.read_csv('state-covid.csv', delimiter = ',')\n",
    "    row_index = 'state'\n",
    "    live_state = live_state.set_index(row_index)\n",
    "    output = input('What U.S. state would you like to learn more about? ')\n",
    "\n",
    "    for i in live_state:\n",
    "        try:\n",
    "            row = output.upper()\n",
    "            state_covid = live_state.loc[row]\n",
    "            return(state_covid[['tot_cases', 'new_case', 'tot_death', 'new_death']])\n",
    "        except KeyError:\n",
    "            print('State abreviation not valid.')\n",
    "            output = input('What U.S. state would you like to learn more about? ')"
   ]
  },
  {
   "cell_type": "code",
   "execution_count": 7,
   "id": "6fbe6872",
   "metadata": {},
   "outputs": [
    {
     "name": "stdout",
     "output_type": "stream",
     "text": [
      "What U.S. state would you like to learn more about? bk\n",
      "State abreviation not valid.\n",
      "What U.S. state would you like to learn more about? ca\n"
     ]
    },
    {
     "data": {
      "text/plain": [
       "tot_cases    9,647,488\n",
       "new_case             0\n",
       "tot_death       90,815\n",
       "new_death          0.0\n",
       "Name: CA, dtype: object"
      ]
     },
     "execution_count": 7,
     "metadata": {},
     "output_type": "execute_result"
    }
   ],
   "source": [
    "state_covid()"
   ]
  },
  {
   "cell_type": "code",
   "execution_count": 8,
   "id": "30cbbe19",
   "metadata": {},
   "outputs": [],
   "source": [
    "'''This cell uses data from the CDC and state health department to compile a sheet for\n",
    "the different counties in California.'''\n",
    "def ca_county_covid():\n",
    "    live_county = pd.read_csv('ca-county-covid.csv', delimiter = ',')\n",
    "    row_index = 'area'\n",
    "    live_county = live_county.set_index(row_index)\n",
    "    output = input('What is the county of your residence? ')\n",
    "    '''Asking California residents to choose the county of their residence, \n",
    "    or any county they would like to know more about'''\n",
    "    \n",
    "    for i in live_county:\n",
    "        try:\n",
    "            row = output.title()\n",
    "            county_covid = live_county.loc[row]\n",
    "            return(county_covid[['date', 'population', 'cases', 'cumulative_cases']])\n",
    "            '''Returns the date the data was compiled, the population of the county, new cases, and total cases.'''\n",
    "        except KeyError:\n",
    "            print('County not valid.')\n",
    "            output = input('What is the county of your residence? ')\n",
    "            '''For any county that is not in the list, a error check has been set to prompt the question again.'''"
   ]
  },
  {
   "cell_type": "code",
   "execution_count": 9,
   "id": "91b75d83",
   "metadata": {},
   "outputs": [
    {
     "name": "stdout",
     "output_type": "stream",
     "text": [
      "What is the county of your residence? riverside\n"
     ]
    },
    {
     "data": {
      "text/plain": [
       "date                 6/2/2022\n",
       "population          2468145.0\n",
       "cases                     0.0\n",
       "cumulative_cases     610409.0\n",
       "Name: Riverside, dtype: object"
      ]
     },
     "execution_count": 9,
     "metadata": {},
     "output_type": "execute_result"
    }
   ],
   "source": [
    "ca_county_covid()"
   ]
  }
 ],
 "metadata": {
  "kernelspec": {
   "display_name": "Python 3 (ipykernel)",
   "language": "python",
   "name": "python3"
  },
  "language_info": {
   "codemirror_mode": {
    "name": "ipython",
    "version": 3
   },
   "file_extension": ".py",
   "mimetype": "text/x-python",
   "name": "python",
   "nbconvert_exporter": "python",
   "pygments_lexer": "ipython3",
   "version": "3.9.5"
  }
 },
 "nbformat": 4,
 "nbformat_minor": 5
}
