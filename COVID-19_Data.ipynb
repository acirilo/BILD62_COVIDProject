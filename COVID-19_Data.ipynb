{
 "cells": [
  {
   "cell_type": "code",
   "execution_count": 1,
   "id": "98eaf1b2",
   "metadata": {},
   "outputs": [
    {
     "name": "stdout",
     "output_type": "stream",
     "text": [
      "Defaulting to user installation because normal site-packages is not writeable\n",
      "Requirement already satisfied: pyzipcode in /home/acirilo/.local/lib/python3.9/site-packages (3.0.1)\n"
     ]
    }
   ],
   "source": [
    "! pip install pyzipcode\n",
    "import pyzipcode\n",
    "from pyzipcode import ZipCodeDatabase\n",
    "zipcode = ZipCodeDatabase()"
   ]
  },
  {
   "cell_type": "code",
   "execution_count": 10,
   "id": "cb939f4b",
   "metadata": {},
   "outputs": [
    {
     "data": {
      "text/plain": [
       "84762022.0"
      ]
     },
     "execution_count": 10,
     "metadata": {},
     "output_type": "execute_result"
    }
   ],
   "source": [
    "##accessing OurWorldInData .csv file as a dataframe in pandas to get live covid cases and total cases for the US\n",
    "\n",
    "import pandas as pd\n",
    "live_data = pd.read_csv('owid-covid-latest.csv', delimiter = ',')\n",
    "row_index = 'iso_code'\n",
    "live_data = live_data.set_index(row_index)\n",
    "row = 'USA'\n",
    "column = 'total_cases'\n",
    "live_data.loc[row, column]"
   ]
  },
  {
   "cell_type": "code",
   "execution_count": null,
   "id": "1d4554af",
   "metadata": {},
   "outputs": [],
   "source": []
  }
 ],
 "metadata": {
  "kernelspec": {
   "display_name": "Python 3 (ipykernel)",
   "language": "python",
   "name": "python3"
  },
  "language_info": {
   "codemirror_mode": {
    "name": "ipython",
    "version": 3
   },
   "file_extension": ".py",
   "mimetype": "text/x-python",
   "name": "python",
   "nbconvert_exporter": "python",
   "pygments_lexer": "ipython3",
   "version": "3.9.5"
  }
 },
 "nbformat": 4,
 "nbformat_minor": 5
}
