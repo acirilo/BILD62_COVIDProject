{
 "cells": [
  {
   "cell_type": "markdown",
   "id": "fcb35b94",
   "metadata": {},
   "source": [
    "## Let's Test Your COVID-19 Knowledge!\n",
    "### With a Quick Game: "
   ]
  },
  {
   "cell_type": "code",
   "execution_count": null,
   "id": "d4bbf684",
   "metadata": {},
   "outputs": [],
   "source": [
    "#initial question to start off the game\n",
    "\n",
    "'''Asks if they would like to learn more on our topic, yes or no option.'''\\\n",
    "''' Chatbot then returns response with additional info or accepts the decline of info.'''\n",
    "\n",
    "question = input('Would you like to learn more about COVID-19 vaccines?')\n",
    "\n",
    "if question.lower() == 'yes':\n",
    "    print('Amazing because COVID-19 vaccines available in the'\\\n",
    "    ' United States are effective at protecting people and more'\\\n",
    "    ' people need to be informed.')\n",
    "    \n",
    "    print('COVID-19 vaccines are safe and offer protection, let\\'s learn more!')\n",
    "else:\n",
    "    print('Damn bestie why you here then?')\n",
    "    \n",
    "    print('Have an okay day...I guess :/')"
   ]
  },
  {
   "cell_type": "code",
   "execution_count": null,
   "id": "db60649a",
   "metadata": {},
   "outputs": [],
   "source": [
    "#whether they are up to date\n",
    "\n",
    "'''Question regrading up to date vaccinatination. User can respond with Y/N. Returns push for vaccine.'''\n",
    "\n",
    "question = input('Okok first things first are you up to date on your vaccines!?')\n",
    "\n",
    "if question.lower() == 'yes':\n",
    "    print('Yay! Glad to hear because similar to other vaccines for other diseases,'\\\n",
    "          ' you are protected best when you stay up to date with the recommended'\\\n",
    "          ' number of doses and boosters :)')\n",
    "    \n",
    "else:\n",
    "    print('It is highly recommended to stay up to date on current vaccination.'\\\n",
    "         ' Up to date means recieving all doses in addition to the boosters.')"
   ]
  },
  {
   "cell_type": "code",
   "execution_count": null,
   "id": "45ac7a5a",
   "metadata": {},
   "outputs": [],
   "source": [
    "#providing info/asking if they know the info\n",
    "\n",
    "'''Straight forward input of vaccine info. User response of Y/N. Returns fun and encouraging reponse.'''\n",
    "\n",
    "question = input('Did you know that for ages 5 and older, 2 doses of Pfizer-BioNTech'\\\n",
    "          ' given 3–8 weeks apart and 2 doses of Moderna'\\\n",
    "          ' given 4–8 weeks apart is considered the up to date dosage.'\\\n",
    "          ' Anddd you are considered fully vaccinated 2 weeks after final'\\\n",
    "          ' dose in primary series')\n",
    "\n",
    "if question.lower() == 'yes':\n",
    "    print('Look at you smartie! Love us an educated king/queen <3')\n",
    "    \n",
    "else:\n",
    "    print('No worries! Just wanted to let you know')"
   ]
  },
  {
   "cell_type": "code",
   "execution_count": 51,
   "id": "c0dce827",
   "metadata": {},
   "outputs": [
    {
     "name": "stdout",
     "output_type": "stream",
     "text": [
      "Totally forgot about Johnson & Johnson’s, did you know for ages 5 and older, 1 dose of J&J is considered the up to date dosage. Plus you are considered fully vaccinated 2 weeks after final dose in primary seriesI did\n",
      "How could you not know!?.... fully kidding no worries, now you do know. \n"
     ]
    }
   ],
   "source": [
    "#more info\n",
    "\n",
    "'''Additional info on J&J vaccine. Y/N option. Returns fun response. '''\n",
    "\n",
    "question = input('Totally forgot about Johnson & Johnson’s, did you'\\\n",
    "          ' know for ages 5 and older, 1 dose of J&J'\\\n",
    "          ' is considered the up to date dosage.'\\\n",
    "          ' Plus you are considered fully vaccinated 2 weeks after final'\\\n",
    "          ' dose in primary series')\n",
    "\n",
    "if question.lower()== 'yes':\n",
    "    print ('YUHHHH loving the knowledge! Keep it up!')\n",
    "    \n",
    "else: \n",
    "    print('How could you not know!?.... fully kidding'\\\n",
    "         ' no worries, now you do know. ')"
   ]
  },
  {
   "cell_type": "code",
   "execution_count": null,
   "id": "eb4a4613",
   "metadata": {},
   "outputs": [],
   "source": [
    "#booster question\n",
    "\n",
    "'''Input asks if interested in knowing more about boosters. User may respond a varity of ways. Returns info on boosters.'''\n",
    "\n",
    "booster_knowledge = input('Are you interested in knowing more about boosters'\\\n",
    "                ' and whether you should get boosted?')\n",
    "\n",
    "affirmative = ['yes', 'Yes', 'sure', 'I guess', 'Yeah', 'yup']\n",
    "negative = ['not at all', 'no', 'No', 'nope', 'nah', 'Im good']\n",
    "\n",
    "if booster_knowledge in affirmative:\n",
    "    print('Great! 1 booster of either Pfizer or Moderna COVID-19 vaccine'\\\n",
    "          ' is recommended for most people at least 5 months after'\\\n",
    "          ' the final dose in the primary series. A 2nd booster is'\\\n",
    "          ' recommended for adults ages 50 years and older at least'\\\n",
    "          ' 4 months after the 1st booster.')\n",
    "    \n",
    "elif booster_knowledge in negative: \n",
    "    print('I mean okayyy')\n",
    "    \n",
    "else: \n",
    "    print('._.')"
   ]
  },
  {
   "cell_type": "markdown",
   "id": "fdb68570",
   "metadata": {},
   "source": [
    "### Feel like you learned some new things? \n",
    "#### If you do, Great! Glad to hear. Hope you had fun with this quick game!"
   ]
  }
 ],
 "metadata": {
  "kernelspec": {
   "display_name": "Python 3 (ipykernel)",
   "language": "python",
   "name": "python3"
  },
  "language_info": {
   "codemirror_mode": {
    "name": "ipython",
    "version": 3
   },
   "file_extension": ".py",
   "mimetype": "text/x-python",
   "name": "python",
   "nbconvert_exporter": "python",
   "pygments_lexer": "ipython3",
   "version": "3.9.5"
  }
 },
 "nbformat": 4,
 "nbformat_minor": 5
}
