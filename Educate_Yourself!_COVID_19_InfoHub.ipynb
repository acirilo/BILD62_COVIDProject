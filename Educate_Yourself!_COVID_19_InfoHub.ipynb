{
 "cells": [
  {
   "cell_type": "code",
   "execution_count": null,
   "id": "2c82697f",
   "metadata": {},
   "outputs": [
    {
     "name": "stdout",
     "output_type": "stream",
     "text": [
      "Defaulting to user installation because normal site-packages is not writeable\n",
      "Requirement already satisfied: pyfiglet in /home/aamorey/.local/lib/python3.9/site-packages (0.8.post1)\n",
      "Note: you may need to restart the kernel to use updated packages.\n",
      "__        __   _                            _        \n",
      "\\ \\      / /__| | ___ ___  _ __ ___   ___  | |_ ___  \n",
      " \\ \\ /\\ / / _ \\ |/ __/ _ \\| '_ ` _ \\ / _ \\ | __/ _ \\ \n",
      "  \\ V  V /  __/ | (_| (_) | | | | | |  __/ | || (_) |\n",
      "   \\_/\\_/ \\___|_|\\___\\___/|_| |_| |_|\\___|  \\__\\___/ \n",
      "                                                     \n",
      " _____    _                 _        __   __                        _  __ _ \n",
      "| ____|__| |_   _  ___ __ _| |_ ___  \\ \\ / /__  _   _ _ __ ___  ___| |/ _| |\n",
      "|  _| / _` | | | |/ __/ _` | __/ _ \\  \\ V / _ \\| | | | '__/ __|/ _ \\ | |_| |\n",
      "| |__| (_| | |_| | (_| (_| | ||  __/   | | (_) | |_| | |  \\__ \\  __/ |  _|_|\n",
      "|_____\\__,_|\\__,_|\\___\\__,_|\\__\\___|   |_|\\___/ \\__,_|_|  |___/\\___|_|_| (_)\n",
      "                                                                            \n",
      "\n",
      "----------------------------------------------------\n",
      "--==by Anthony Cirilo, Ash Morey, and Rubi Gomez==--\n",
      "----------------------------------------------------\n",
      "\n",
      "\n",
      "Would you like to:\n",
      "    \t1. Look at live data?\n",
      "    \t2. Test your COVID-19 knowledge?\n",
      "    \t3. See why vaccines are important?\n",
      "    \t4. Quit.\n"
     ]
    }
   ],
   "source": [
    "%run ./main_book_backend.ipynb"
   ]
  },
  {
   "cell_type": "code",
   "execution_count": null,
   "id": "34a07396",
   "metadata": {},
   "outputs": [],
   "source": []
  }
 ],
 "metadata": {
  "kernelspec": {
   "display_name": "Python 3 (ipykernel)",
   "language": "python",
   "name": "python3"
  },
  "language_info": {
   "codemirror_mode": {
    "name": "ipython",
    "version": 3
   },
   "file_extension": ".py",
   "mimetype": "text/x-python",
   "name": "python",
   "nbconvert_exporter": "python",
   "pygments_lexer": "ipython3",
   "version": "3.9.5"
  }
 },
 "nbformat": 4,
 "nbformat_minor": 5
}
