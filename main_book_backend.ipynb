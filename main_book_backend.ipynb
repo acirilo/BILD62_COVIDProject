{
 "cells": [
  {
   "cell_type": "code",
   "execution_count": 8,
   "id": "cd062235",
   "metadata": {},
   "outputs": [
    {
     "name": "stdout",
     "output_type": "stream",
     "text": [
      "Defaulting to user installation because normal site-packages is not writeable\n",
      "Requirement already satisfied: pyfiglet in /home/aamorey/.local/lib/python3.9/site-packages (0.8.post1)\n",
      "Note: you may need to restart the kernel to use updated packages.\n"
     ]
    }
   ],
   "source": [
    "'''I cannot figure out how to run this over and over without breaking things :)'''\n",
    "%pip install pyfiglet\n",
    "import pyfiglet as pyg\n",
    "import time\n",
    "import sys"
   ]
  },
  {
   "cell_type": "code",
   "execution_count": 21,
   "id": "bd98d299",
   "metadata": {},
   "outputs": [
    {
     "name": "stdout",
     "output_type": "stream",
     "text": [
      "__        __   _                            _        \n",
      "\\ \\      / /__| | ___ ___  _ __ ___   ___  | |_ ___  \n",
      " \\ \\ /\\ / / _ \\ |/ __/ _ \\| '_ ` _ \\ / _ \\ | __/ _ \\ \n",
      "  \\ V  V /  __/ | (_| (_) | | | | | |  __/ | || (_) |\n",
      "   \\_/\\_/ \\___|_|\\___\\___/|_| |_| |_|\\___|  \\__\\___/ \n",
      "                                                     \n",
      " _____    _                 _        __   __                        _  __ _ \n",
      "| ____|__| |_   _  ___ __ _| |_ ___  \\ \\ / /__  _   _ _ __ ___  ___| |/ _| |\n",
      "|  _| / _` | | | |/ __/ _` | __/ _ \\  \\ V / _ \\| | | | '__/ __|/ _ \\ | |_| |\n",
      "| |__| (_| | |_| | (_| (_| | ||  __/   | | (_) | |_| | |  \\__ \\  __/ |  _|_|\n",
      "|_____\\__,_|\\__,_|\\___\\__,_|\\__\\___|   |_|\\___/ \\__,_|_|  |___/\\___|_|_| (_)\n",
      "                                                                            \n",
      "\n",
      "----------------------------------------------------\n",
      "--==by Anthony Cirilo, Ash Morey, and Rubi Gomez==--\n",
      "----------------------------------------------------\n",
      "\n",
      "\n",
      "Would you like to:\n",
      "    \t1. Look at live data?\n",
      "    \t2. Test your COVID-19 knowledge?\n",
      "    \t3. See why vaccines are important?\n",
      "    \t4. Quit.\n",
      "1\n",
      "What country would you like to learn about? united states\n",
      " Total country cases: 84882287.0\n",
      "What U.S. state would you like to learn more about? ohio\n",
      "State abreviation not valid.\n",
      "What U.S. state would you like to learn more about? oh\n",
      " Total state cases: tot_cases    2,780,653\n",
      "new_case             0\n",
      "tot_death       38,657\n",
      "new_death          0.0\n",
      "Name: OH, dtype: object\n",
      "What is the county of your residence? san fransisco\n",
      "County not valid.\n",
      "What is the county of your residence? san francisco\n",
      " CA county cases: date                6/2/2022\n",
      "population          892280.0\n",
      "cases                    0.0\n",
      "cumulative_cases    145862.0\n",
      "Name: San Francisco, dtype: object\n"
     ]
    }
   ],
   "source": [
    "res= pyg.figlet_format('Welcome to Educate Yourself!')   \n",
    "print(res)\n",
    "print('----------------------------------------------------\\n\\\n",
    "--==by Anthony Cirilo, Ash Morey, and Rubi Gomez==--\\n\\\n",
    "----------------------------------------------------\\n')\n",
    "\n",
    "def my_func():\n",
    "    print('\\nWould you like to:\\n\\\n",
    "    \\t1. Look at live data?\\n\\\n",
    "    \\t2. Test your COVID-19 knowledge?\\n\\\n",
    "    \\t3. See why vaccines are important?\\n\\\n",
    "    \\t4. Quit.')\n",
    "    answer = input()\n",
    "    if answer == '1':\n",
    "        %run ./COVID-19_Data.ipynb\n",
    "    elif answer == '2':  # works\n",
    "        %run ./should_you_vaccinate.ipynb\n",
    "    elif answer == '3':\n",
    "        %run ./Cellular\\ Automata(1).ipynb\n",
    "    elif answer == '4':\n",
    "        sys.exit('\\nThanks for running me :)!')\n",
    "    else:\n",
    "        print('\\nPlease choose one of the three options :)')\n",
    "\n",
    "my_func()\n"
   ]
  },
  {
   "cell_type": "code",
   "execution_count": null,
   "id": "b0f4e26d",
   "metadata": {},
   "outputs": [],
   "source": []
  }
 ],
 "metadata": {
  "kernelspec": {
   "display_name": "Python 3 (ipykernel)",
   "language": "python",
   "name": "python3"
  },
  "language_info": {
   "codemirror_mode": {
    "name": "ipython",
    "version": 3
   },
   "file_extension": ".py",
   "mimetype": "text/x-python",
   "name": "python",
   "nbconvert_exporter": "python",
   "pygments_lexer": "ipython3",
   "version": "3.9.5"
  }
 },
 "nbformat": 4,
 "nbformat_minor": 5
}
